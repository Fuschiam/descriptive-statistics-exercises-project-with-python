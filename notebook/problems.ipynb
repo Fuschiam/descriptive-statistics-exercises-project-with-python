{
    "cells": [
        {
            "cell_type": "markdown",
            "id": "ac622319",
            "metadata": {},
            "source": [
                "# Descriptive statistics problems"
            ]
        },
        {
            "cell_type": "markdown",
            "id": "5e0ab0d5",
            "metadata": {},
            "source": [
                "### Exercise 1\n",
                "\n",
                "We will use NumPy to obtain information to describe statistically.\n",
                "\n",
                "- Generate an array of 100 elements following a normal distribution.\n",
                "- Generate an array of 100 elements following a chi-square distribution with 3 degrees of freedom.\n",
                "- Calculate the main metrics and statistical measures that best describe the two vectors."
            ]
        },
        {
            "cell_type": "code",
            "execution_count": 17,
            "id": "34720ab6",
            "metadata": {},
            "outputs": [
                {
                    "name": "stdout",
                    "output_type": "stream",
                    "text": [
                        "normal vector: [ 0.34474461 -0.28312348  0.27907746 -0.78509398  1.05456921 -0.15240253\n",
                        "  1.35795422  1.4044729   1.74991058  0.69030174 -0.35928186  0.15971504\n",
                        "  0.50533646  0.37898016  1.14664264  0.68333688  0.17915258 -0.45275825\n",
                        " -0.77508978  1.21535207  1.12111476  0.39703907 -0.45705797  0.43982135\n",
                        "  1.66802833  1.39023231 -0.36836384 -1.28961884  0.71584612 -0.22515807\n",
                        " -0.08552058  0.73122581 -0.93595136 -0.68560954  0.48684435  0.7873429\n",
                        " -1.75361398 -0.73849218  1.85380299 -0.08402459  0.0728493   0.19149317\n",
                        "  0.09512533  0.15544515  0.32296486 -0.93837347 -0.22617876  1.61508309\n",
                        " -0.74533663  1.37815721 -0.03035477 -0.71919865  0.77038791 -0.14496163\n",
                        "  1.13150162 -2.45066152 -0.31053203 -0.55427208 -0.32059729 -0.1707812\n",
                        " -0.69405425 -0.00287763 -0.66480883 -0.57370721  0.7313541   0.14001715\n",
                        " -2.41054471 -0.80167848  0.24105279  0.04598311  0.96120675  0.26838495\n",
                        "  0.5121189   2.60663003 -0.01297603  1.497047    0.20856845  0.35328577\n",
                        " -1.56971223 -0.2692507   0.98562281 -0.94606015  0.0762518   0.64318265\n",
                        "  0.49469054  0.8624084   0.37186089 -0.75693292  0.31407349 -2.56414878\n",
                        " -0.6688598   0.18324239  0.56210174  0.5645951  -0.30427838 -0.45529877\n",
                        "  0.73072343  1.33042969  1.09093235 -0.83799786]\n",
                        "chisquare vector: [ 0.34108458  1.26751766  1.6932261   5.18065345  4.32861006  1.2142007\n",
                        "  5.60585111  0.12517461  2.38775691  6.29688739  0.94428521  3.74000761\n",
                        "  1.72212398  2.65405752  2.68912727  2.57216049  0.84372331  3.24902406\n",
                        "  2.04549985  1.07317604  2.22719651  3.26398136  2.49341519  2.05542506\n",
                        "  3.17290088  5.84484684  3.32567996  5.8202998   5.69943049  1.36275984\n",
                        "  3.85556443  2.60771116  1.0728342   9.93063877  2.79714271  0.20374229\n",
                        "  3.950628    0.19854458  1.77177114  0.40644984  0.07969615  1.09186748\n",
                        "  9.08912302  1.72916014  4.09397747  5.73837845  3.14787214  2.53801604\n",
                        "  1.11155876  1.57775142  0.58729032  0.863388    5.5510017   5.05364366\n",
                        "  1.91348934  1.48849563  3.07847563  5.02337718  1.43275465  1.76104725\n",
                        "  2.22839974 12.31393808  4.409643    1.59695925  4.85084032  3.09201379\n",
                        "  3.90695515  1.32284932  1.2027511   2.62890538  1.12220508  0.74335645\n",
                        "  9.60823869  5.82709336  3.88663708  3.58703886  5.6564849   7.98654993\n",
                        "  2.41797746  3.86716318  4.11412733  6.2758855   1.07315479  1.60721251\n",
                        "  3.70309495  4.33890284  1.03993909  1.86157734  0.32722275  1.02863384\n",
                        "  7.96290399  3.75103523  2.38624968  0.92687853  2.72315774  3.90650324\n",
                        "  1.73286976  1.74663982  0.18049175  3.79537229]\n"
                    ]
                }
            ],
            "source": [
                "# TODO\n",
                "import numpy as np\n",
                "import statistics as stats\n",
                "normal = np.random.normal(loc=0, scale=1, size=100)\n",
                "chisquare = np.random.chisquare(3, size=100)\n",
                "print(f\"normal vector: {normal}\")\n",
                "print(f\"chisquare vector: {chisquare}\")\n"
            ]
        },
        {
            "cell_type": "code",
            "execution_count": 18,
            "id": "bc415742",
            "metadata": {},
            "outputs": [
                {
                    "name": "stdout",
                    "output_type": "stream",
                    "text": [
                        "Mean for Normal: 0.12674020868969135\n",
                        "Standard Deviation for Normal: 0.9157000889746549\n",
                        "Minimum for Normal: -2.5641487756401617\n",
                        "Maximum for Normal: 2.6066300289180817\n",
                        "Variance for Normal: 0.838506652948191\n",
                        "Median for Normal: 0.1694338099358486\n",
                        "Mode for Normal: 0.34474460844865934\n",
                        "Range for normal: 5.1707788045582435\n",
                        "Skewness for normal: -0.35091114214486485\n",
                        "Kurtosis for normal: 0.7446320440368259\n"
                    ]
                }
            ],
            "source": [
                "#Central tendencies for normal\n",
                "mean_norm = np.mean(normal)\n",
                "print(f\"Mean for Normal: {mean_norm}\")\n",
                "std_dev_norm = np.std(normal)\n",
                "print(f\"Standard Deviation for Normal: {std_dev_norm}\")\n",
                "min_norm = np.min(normal)\n",
                "print(f\"Minimum for Normal: {min_norm}\")\n",
                "max_norm = np.max(normal)\n",
                "print(f\"Maximum for Normal: {max_norm}\")\n",
                "var_norm = np.var(normal)\n",
                "print(f\"Variance for Normal: {var_norm}\")\n",
                "median_norm = stats.median(normal)\n",
                "print(f\"Median for Normal: {median_norm}\")\n",
                "mode_norm = stats.mode(normal)\n",
                "print(f\"Mode for Normal: {mode_norm}\")\n",
                "range_norm = max(normal) - min(normal)\n",
                "print(f\"Range for normal: {range_norm}\")\n",
                "\n",
                "#Skewness for Normal\n",
                "from scipy.stats import skew\n",
                "skew_norm = skew(normal)\n",
                "print(f\"Skewness for normal: {skew_norm}\")\n",
                "\n",
                "#Kurtosis for normal\n",
                "from scipy.stats import kurtosis\n",
                "kurt_norm = kurtosis(normal)\n",
                "print(f\"Kurtosis for normal: {kurt_norm}\")"
            ]
        },
        {
            "cell_type": "code",
            "execution_count": 22,
            "id": "71d55fc2",
            "metadata": {},
            "outputs": [
                {
                    "name": "stdout",
                    "output_type": "stream",
                    "text": [
                        "Mean for chisquare: 3.057233284691591\n",
                        "Standard Deviation for chisquare: 2.3278014429002503\n",
                        "Minimum for chisquare: 0.079696150493259\n",
                        "Maximum for chisquare: 12.313938084224713\n",
                        "Variance for chisquare: 5.418659557568486\n",
                        "Median for chisquare: 2.5550882676133764\n",
                        "Mode for chisquare: 0.34108458176112605\n",
                        "Range for chisquare: 12.234241933731454\n",
                        "Skewness for chisquare: 1.3783446908959514\n",
                        "Kurtosis for chisquare: 2.2805658070023176\n"
                    ]
                }
            ],
            "source": [
                "#central tendencies for chisquare\n",
                "mean_chi = np.mean(chisquare)\n",
                "print(f\"Mean for chisquare: {mean_chi}\")\n",
                "std_dev_chi = np.std(chisquare)\n",
                "print(f\"Standard Deviation for chisquare: {std_dev_chi}\")\n",
                "min_chi = np.min(chisquare)\n",
                "print(f\"Minimum for chisquare: {min_chi}\")\n",
                "max_chi = np.max(chisquare)\n",
                "print(f\"Maximum for chisquare: {max_chi}\")\n",
                "var_chi = np.var(chisquare)\n",
                "print(f\"Variance for chisquare: {var_chi}\")\n",
                "median_chi = stats.median(chisquare)\n",
                "print(f\"Median for chisquare: {median_chi}\")\n",
                "mode_chi = stats.mode(chisquare)\n",
                "print(f\"Mode for chisquare: {mode_chi}\")\n",
                "range_chi = max(chisquare) - min(chisquare)\n",
                "print(f\"Range for chisquare: {range_chi}\")\n",
                "\n",
                "#Skewness for Chisquare\n",
                "from scipy.stats import skew\n",
                "skew_chi = skew(chisquare)\n",
                "print(f\"Skewness for chisquare: {skew_chi}\")\n",
                "\n",
                "#Kurtosis for chisquare\n",
                "from scipy.stats import kurtosis\n",
                "kurt_chi = kurtosis(chisquare)\n",
                "print(f\"Kurtosis for chisquare: {kurt_chi}\")"
            ]
        },
        {
            "cell_type": "markdown",
            "id": "46c70c3d",
            "metadata": {},
            "source": [
                "### Exercise 2\n",
                "\n",
                "Write a Python program to calculate the standard deviation of the following data:\n",
                "\n",
                "```py\n",
                "data = [4, 2, 5, 8, 6]\n",
                "```"
            ]
        },
        {
            "cell_type": "code",
            "execution_count": null,
            "id": "4122a935",
            "metadata": {},
            "outputs": [],
            "source": []
        },
        {
            "cell_type": "code",
            "execution_count": 7,
            "id": "d590308e",
            "metadata": {},
            "outputs": [
                {
                    "name": "stdout",
                    "output_type": "stream",
                    "text": [
                        "Mean: 5.0\n",
                        "20.0\n",
                        "4\n",
                        "5.0\n",
                        "Final Answer: 2.23606797749979\n"
                    ]
                }
            ],
            "source": [
                "# TODO\n",
                "import numpy as np\n",
                "import statistics as stats\n",
                "data = [4,2,5,8,6]\n",
                "\n",
                "#std_dev = np.std(data)\n",
                "#print(std_dev)\n",
                "\n",
                "#Find Mean first\n",
                "mean = np.mean(data)\n",
                "print(f\"Mean: {mean}\")\n",
                "#Find X - mean squared of each data point\n",
                "s = np.sum((data-mean) ** 2)\n",
                "print(s)\n",
                "n_1 = (len(data) - 1)\n",
                "print(n_1)\n",
                "Total_Sum = s / n_1\n",
                "print(Total_Sum)\n",
                "final = np.sqrt(Total_Sum)\n",
                "print(f\"Final Answer: {final}\")"
            ]
        },
        {
            "cell_type": "code",
            "execution_count": 8,
            "id": "45729931",
            "metadata": {},
            "outputs": [
                {
                    "name": "stdout",
                    "output_type": "stream",
                    "text": [
                        "[4, 2, 5, 8, 6]\n",
                        "2.23606797749979\n"
                    ]
                }
            ],
            "source": [
                "import math\n",
                "import sys\n",
                "\n",
                "def std_calc(data):\n",
                "    n = len(data)\n",
                "\n",
                "    if n <= 1:\n",
                "        return 0.0 \n",
                "    \n",
                "    mean, sd = avg_calc(data), 0.0\n",
                "\n",
                "    for num in data:\n",
                "        sd += (float(num) - mean) ** 2\n",
                "    sd = math.sqrt(sd / float(n-1))\n",
                "    return sd \n",
                "\n",
                "def avg_calc(data):\n",
                "    n, mean = len(data), 0.0\n",
                "\n",
                "    if (n <= 1):\n",
                "        return data[0]\n",
                "\n",
                "    for d in data:\n",
                "        mean = mean + float(d)\n",
                "\n",
                "    mean = mean / float(n)\n",
                "    return mean\n",
                "\n",
                "\n",
                "print(data)\n",
                "print(std_calc(data))"
            ]
        },
        {
            "cell_type": "code",
            "execution_count": 12,
            "id": "3646ac49",
            "metadata": {},
            "outputs": [
                {
                    "data": {
                        "text/plain": [
                            "3.1622776601683795"
                        ]
                    },
                    "execution_count": 12,
                    "metadata": {},
                    "output_type": "execute_result"
                }
            ],
            "source": [
                "new_var = [3,5,7,9,1]\n",
                "std_calc(new_var)"
            ]
        },
        {
            "cell_type": "code",
            "execution_count": 10,
            "id": "66d87776",
            "metadata": {},
            "outputs": [
                {
                    "data": {
                        "text/plain": [
                            "5.4"
                        ]
                    },
                    "execution_count": 10,
                    "metadata": {},
                    "output_type": "execute_result"
                }
            ],
            "source": [
                "box = [4,7,5,2,9]\n",
                "avg_calc(box)\n"
            ]
        }
    ],
    "metadata": {
        "interpreter": {
            "hash": "9248718ffe6ce6938b217e69dbcc175ea21f4c6b28a317e96c05334edae734bb"
        },
        "kernelspec": {
            "display_name": "Python 3.9.12 ('ML-BOOTCAMP')",
            "language": "python",
            "name": "python3"
        },
        "language_info": {
            "codemirror_mode": {
                "name": "ipython",
                "version": 3
            },
            "file_extension": ".py",
            "mimetype": "text/x-python",
            "name": "python",
            "nbconvert_exporter": "python",
            "pygments_lexer": "ipython3",
            "version": "3.11.4"
        }
    },
    "nbformat": 4,
    "nbformat_minor": 5
}
